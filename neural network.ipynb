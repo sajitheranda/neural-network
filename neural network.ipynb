{
 "cells": [
  {
   "cell_type": "markdown",
   "id": "56157fb7-11e7-4151-8a9c-e95c4a844924",
   "metadata": {
    "deletable": false,
    "editable": false
   },
   "source": [
    "# <center>Feedforward and Backpropagation</center>\n",
    "## <center>Inclass Project 2 - MA4144</center>\n",
    "\n",
    "This project contains 10 tasks/questions to be completed, some require written answers. Open a markdown cell below the respective question that require written answers and provide (type) your answers. Questions that required written answers are given in blue fonts. Almost all written questions are open ended, they do not have a correct or wrong answer. You are free to give your opinions, but please provide related answers within the context.\n",
    "\n",
    "After finishing project run the entire notebook once and **save the notebook as a pdf** (File menu -> Save and Export Notebook As -> PDF). You are **required to upload this PDF on moodle**.\n",
    "\n",
    "***"
   ]
  },
  {
   "attachments": {},
   "cell_type": "markdown",
   "id": "37c45f68-8516-4bd3-80b3-fa38c9fc01bf",
   "metadata": {
    "deletable": false,
    "editable": false
   },
   "source": [
    "## Outline of the project\n",
    "\n",
    "The aim of the project is to build a Multi Layer perceptron (MLP) model from scratch for binary classification. That is given an input $x$ output the associated class label $0$ or $1$.\n",
    "\n",
    "In particular, we will classify images of handwritten digits ($0, 1, 2, \\cdots, 9$). For example, given a set of handwritten digit images that only contain two digits (Eg: $1$ and $5$) the model will classify the images based on the written digit.\n",
    "\n",
    "For this we will use the MNIST dataset (collection of $28 \\times 28$ images of handwritten digits) - you can find additional information about MNIST [here](https://en.wikipedia.org/wiki/MNIST_database).\n",
    "\n",
    "<img src=\"https://upload.wikimedia.org/wikipedia/commons/f/f7/MnistExamplesModified.png\" width=\"250\">\n",
    "\n",
    "***\n"
   ]
  },
  {
   "cell_type": "markdown",
   "id": "ba8a0988-42a0-4e8f-abf5-2bc3ddf18304",
   "metadata": {
    "deletable": false,
    "editable": false
   },
   "source": [
    "Use the below cell to use any include any imports"
   ]
  },
  {
   "cell_type": "code",
   "execution_count": 1,
   "id": "aac8649a-c1fe-4236-8ebd-ce3faa43ee3b",
   "metadata": {},
   "outputs": [],
   "source": [
    "import numpy as np\n",
    "import seaborn as sns\n",
    "import pandas as pd\n",
    "from keras.datasets import mnist\n",
    "import matplotlib.pyplot as plt\n",
    "from sklearn.metrics import accuracy_score, confusion_matrix\n",
    "from tqdm import tqdm"
   ]
  },
  {
   "cell_type": "markdown",
   "id": "e64c6025-f0e5-440e-ab25-fb22393f186c",
   "metadata": {
    "deletable": false,
    "editable": false
   },
   "source": [
    "## Section 1: Preparing the data"
   ]
  },
  {
   "cell_type": "code",
   "execution_count": 2,
   "id": "41a0c01b-d4ce-47c6-ad39-80ea85a59543",
   "metadata": {},
   "outputs": [
    {
     "name": "stdout",
     "output_type": "stream",
     "text": [
      "(60000, 28, 28)\n",
      "(10000, 28, 28)\n",
      "(60000,)\n",
      "(10000,)\n"
     ]
    }
   ],
   "source": [
    "#Load the dataset as training and testing, then print out the shapes of the data matrices\n",
    "\n",
    "(train_X, train_y), (test_X, test_y) = mnist.load_data()\n",
    "print(train_X.shape)\n",
    "print(test_X.shape)\n",
    "print(train_y.shape)\n",
    "print(test_y.shape)"
   ]
  },
  {
   "cell_type": "markdown",
   "id": "1135bf15-9a80-4d14-8fb4-e30c9e53a4cf",
   "metadata": {
    "deletable": false,
    "editable": false
   },
   "source": [
    "**Q1.** In the following cell write code to display $5$ random images in train_X and it's corresponding label in train_y. Each time it is run, you should get a different set of images. The imshow function in the matplotlib library could be useful. Display them as [grayscale images](https://en.wikipedia.org/wiki/Grayscale)."
   ]
  },
  {
   "cell_type": "code",
   "execution_count": 3,
   "id": "dad09af0-90d7-4590-922e-d114755455a4",
   "metadata": {},
   "outputs": [
    {
     "data": {
      "image/png": "[encoded data removed]",
      "text/plain": [
       "<Figure size 1000x200 with 5 Axes>"
      ]
     },
     "metadata": {},
     "output_type": "display_data"
    }
   ],
   "source": [
    "#TODO Code to display 5 random handritten images from train_X and corresponting labels from train_y\n",
    "\n",
    "# Number of random images to display\n",
    "num_images = 5\n",
    "\n",
    "# Randomly select 5 indices from the dataset\n",
    "random_indices = np.random.choice(train_X.shape[0], num_images, replace=False)\n",
    "\n",
    "# Create a plot with 1 row and 5 columns to display images\n",
    "plt.figure(figsize=(10, 2))\n",
    "\n",
    "for i, idx in enumerate(random_indices):\n",
    "    plt.subplot(1, num_images, i+1)\n",
    "    plt.imshow(train_X[idx], cmap='gray')  # Display the image in grayscale\n",
    "    plt.title(f\"Label: {train_y[idx]}\")\n",
    "    plt.axis('off')  # Turn off axis for better visualization\n",
    "\n",
    "plt.tight_layout()\n",
    "plt.show()\n"
   ]
  },
  {
   "cell_type": "markdown",
   "id": "580fd94a-370c-468b-ba0f-01c2506d4810",
   "metadata": {
    "deletable": false,
    "editable": false
   },
   "source": [
    "**Q2.** Given two digits $d_1$ and $d_2$, both between $0$ and $9$, in the following cell fill in the function body to extract all the samples corresponding to $d_1$ or $d_2$ only, from the dataset $X$ and labels $y$. You can use the labels $y$ to filter the dataset. Assume that the $i$th image $X[i]$ in $X$ is given by $y[i]$. The function should return the extracted samples $X_{extracted}$ and corresponding labels $y_{extracted}$. Avoid using for loops as much as possible, infact you do not need any for loops. numpy.where function should be useful."
   ]
  },
  {
   "cell_type": "code",
   "execution_count": 4,
   "id": "8cd468f8-f28e-405d-aa0a-ac97470615f2",
   "metadata": {},
   "outputs": [],
   "source": [
    "def extract_digits(X, y, d1, d2):\n",
    "\n",
    "    assert d1 in range(0, 10), \"d1 should be a number between 0 and 9 inclusive\"\n",
    "    assert d2 in range(0, 10), \"d2 should be a number between 0 and 9 inclusive\"\n",
    "    \n",
    "    #TODO\n",
    "    idxs = np.where((y==d1)|(y==d2))[0]\n",
    "    \n",
    "    X_extracted = X[idxs,:,:]\n",
    "    y_extracted = y[idxs]\n",
    "\n",
    "    return (X_extracted, y_extracted)"
   ]
  },
  {
   "attachments": {},
   "cell_type": "markdown",
   "id": "29123736-f5a7-4981-afd8-cdb69bae3f7d",
   "metadata": {
    "deletable": false,
    "editable": false
   },
   "source": [
    "**Q3.** Both the training dataset train_X and test_y is a 3 dimensional numpy array, each image occupies 2 dimensions. For convenience of processing data we usually comvert each $28 \\times 28$ image matrix to a vector with $784$ entries. We call this process **vectorize images**.\n",
    "\n",
    "Once we vectorize the images, the vectorized data set would be structured as follows: $i$th row will correspond to a single image and $j$th column will correspond to the $j$th pixel value of each vectorized image. However going along with the convention we discussed in the lecture, the input to the MLP model will require that the columns correspond to individual images. Hence we also require a transpose of the vectorized results.\n",
    "\n",
    "The pixel values in the images will range from $0$ to $255$. Normalize the pixel values between $0$ and $1$, by dividing each pixel value of each image by the maximum pixel value of that image. Simply divide each column of the resulting matrix above by the max of each column. \n",
    "\n",
    "<center><img src=\"https://encrypted-tbn0.gstatic.com/images?q=tbn:ANd9GcTdN_8m9FEqjqAB07obTmB6gNc7S2rSoGBYaA&s\"></center>\n",
    "\n",
    "Given a dataset $X$ of size $N \\times 28 \\times 28$, in the following cell fill in the function to do the following in order;\n",
    "1. Vectorize the dataset resulting in dataset of size $N \\times 784$.\n",
    "2. Transpose the vectorized result.\n",
    "3. Normalize the pixel values of each image.\n",
    "4. Finally return the vectorized, transposed and normalized dataset $X_{transformed}$.\n",
    "\n",
    "Again, avoid for loops, functions such as numpy.reshape, numpy.max etc should be useful."
   ]
  },
  {
   "cell_type": "code",
   "execution_count": 5,
   "id": "eb50027a-5a36-4279-9972-a2bf449bef3d",
   "metadata": {},
   "outputs": [],
   "source": [
    "\n",
    "def vectorize_images(X):\n",
    "    # Step 1: Vectorize the dataset (flatten each image)\n",
    "    vectorized_X = X.reshape(X.shape[0], -1)  # N x 784\n",
    "    \n",
    "    # Step 2: Transpose the vectorized result\n",
    "    transposed_vectorized_X = vectorized_X.T  # 784 x N\n",
    "    \n",
    "    # Step 3: Normalize pixel values between 0 and 1 by dividing by the max value in each column\n",
    "    max_values = transposed_vectorized_X.max(axis=0)  # Max value of each column\n",
    "    X_normalized = transposed_vectorized_X / max_values  # Normalize by the max value of each column\n",
    "    \n",
    "    # Return the transformed dataset\n",
    "    return X_normalized"
   ]
  },
  {
   "cell_type": "markdown",
   "id": "fbc428f8-0eec-4eb2-9df2-53cd924c9c9d",
   "metadata": {
    "deletable": false,
    "editable": false
   },
   "source": [
    "**Q4.** In the following cell write code to;\n",
    "\n",
    "1. Extract images of the digits $d_1 = 1$ and $d_2 = 5$ with their corresponding labels for both the training set (train_X, train_y) and testing set (test_X, test_y) separately.\n",
    "2. Then vectorize the data, tranpose the result and normlize the images.\n",
    "3. Store the results after the final transformations in numpy arrays train_X_1_5, train_y_1_5, test_X_1_5, test_y_1_5\n",
    "4. Our MLP will output only class labels $0$ and $1$ (not $1$ and $5$), so create numpy arrays to store the class labels as follows:\n",
    "   $d_1 = 1$ -> class label = 0 and $d_2 = 5$ -> class label = 1. Store them in the arrays named train_class_1_5, test_class_1_5.\n",
    "\n",
    "Use the above functions you implemented above to complete this task. In addtion, numpy.where could be useful. Avoid for loops as much as possible."
   ]
  },
  {
   "cell_type": "code",
   "execution_count": 6,
   "id": "884eec41",
   "metadata": {},
   "outputs": [
    {
     "name": "stdout",
     "output_type": "stream",
     "text": [
      "b_train_X_1_5 shape:  (12163, 28, 28)\n",
      "train_X_1_5 shape:  (784, 12163)\n",
      "b_test_X_1_5 shape:  (2027, 28, 28)\n",
      "test_X_1_5 shape:  (784, 2027)\n"
     ]
    }
   ],
   "source": [
    "b_train_X_1_5,train_y_1_5 = extract_digits(train_X,train_y,1,5)\n",
    "b_test_X_1_5, test_y_1_5 = extract_digits(test_X,test_y,1,5)\n",
    "\n",
    "train_X_1_5 = vectorize_images(b_train_X_1_5)\n",
    "test_X_1_5 = vectorize_images(b_test_X_1_5)\n",
    "\n",
    "\n",
    "train_y_1_5[train_y_1_5==1] = 0\n",
    "train_y_1_5[train_y_1_5==5] = 1\n",
    "train_class_1_5 = train_y_1_5\n",
    "\n",
    "\n",
    "test_y_1_5[test_y_1_5==1] = 0\n",
    "test_y_1_5[test_y_1_5==5] = 1\n",
    "test_class_1_5 = test_y_1_5\n",
    "\n",
    "\n",
    "print(\"b_train_X_1_5 shape: \",b_train_X_1_5.shape)\n",
    "print(\"train_X_1_5 shape: \", train_X_1_5.shape)\n",
    "print(\"b_test_X_1_5 shape: \", b_test_X_1_5.shape)\n",
    "print(\"test_X_1_5 shape: \",test_X_1_5.shape)\n",
    "\n"
   ]
  },
  {
   "cell_type": "markdown",
   "id": "8d99382b-43b7-4375-8825-4b7d267b6dac",
   "metadata": {
    "deletable": false,
    "editable": false
   },
   "source": [
    "## Section 2: Implementing MLP from scratch with training algorithms."
   ]
  },
  {
   "cell_type": "markdown",
   "id": "5864b18e-cf2e-4da6-a3df-20b8bd84633f",
   "metadata": {
    "deletable": false,
    "editable": false
   },
   "source": [
    "Now we will implement code to build a customizable MLP model. The hidden layers will have the **Relu activation function** and the final output layer will have **Sigmoid activation function**."
   ]
  },
  {
   "cell_type": "markdown",
   "id": "3247c43d-7e37-4e72-9232-5e01898c39a8",
   "metadata": {
    "deletable": false,
    "editable": false
   },
   "source": [
    "**Q5.** Recall the following about the activation functions:\n",
    "1. Sigmoid activation: $y = \\sigma(z) = \\frac{1}{1 + e^{-z}}$.\n",
    "2. Derivative of Sigmoid: $y' = \\sigma'(z) = \\sigma(z) (1 - \\sigma(z)) = y(1-y)$\n",
    "3. ReLu activation: $y = ReLu(z) = max(0, z)$\n",
    "4. Derivative of ReLu: $y' = ReLu'(z) = \\begin{cases} 0 \\; \\textrm{if } z < 0 \\\\ 1 \\; \\textrm{otherwise} \\end{cases} = \\begin{cases} 0 \\; \\textrm{if } y = 0 \\\\ 1 \\; \\textrm{otherwise} \\end{cases}$\n",
    "\n",
    "In the following cell implement the functions to compute activation functions Sigmoid and ReLu given $z$ and derivatives of the Sigmoid and ReLu activation functions given $y$. Note that the input to the derivative functions is $y$ not $z$.\n",
    "\n",
    "In practice the input will not be just single numbers, but matrices. So functions or derivatives should be applied elementwise on matrices. Again avoid for loops, use the power of numpy arrays - search for numpy's capability of doing elementwise computations.\n",
    "\n",
    "Important: When implementing the sigmoid function make sure you handle overflows due to $e^{-z}$ being too large. To avoid you can choose to set the sigmoid value to 'the certain appropriate value' if $z$ is less than a certain good enough negative threshold. If you do not handle overflows, the entire result will be useless fince the MLP will just output Nan (not a number) for evry input at the end."
   ]
  },
  {
   "cell_type": "code",
   "execution_count": 7,
   "id": "ac42dde5-2b7d-4fc2-a5bc-4d396822e995",
   "metadata": {},
   "outputs": [],
   "source": [
    "# Sigmoid activation function\n",
    "def sigmoid(Z):\n",
    "    Z = np.clip(Z, -500, 500)  # Clipping to prevent overflow\n",
    "    sigma = 1 / (1 + np.exp(-Z))  # Sigmoid formula\n",
    "    return sigma\n",
    "\n",
    "# Derivative of the sigmoid function\n",
    "def deriv_sigmoid(Y):\n",
    "    sigma_prime = Y * (1 - Y)  # Derivative of sigmoid formula\n",
    "    return sigma_prime\n",
    "\n",
    "# ReLU activation function\n",
    "def ReLu(Z):\n",
    "    relu = np.maximum(0, Z)  # ReLU formula\n",
    "    return relu\n",
    "\n",
    "# Derivative of ReLU function\n",
    "def deriv_ReLu(Y):\n",
    "    relu_prime = np.where(Y > 0, 1, 0)  # Derivative of ReLU formula\n",
    "    return relu_prime\n"
   ]
  },
  {
   "cell_type": "markdown",
   "id": "88ca012e-5c82-4689-8170-28f6110cc9b5",
   "metadata": {},
   "source": [
    "**Q6.** The following piece of code defines a simple MLP architecture as a Python class and subsequent initialization of a MLP model. <font color='blue'>Certain lines of code contains commented line numbers. Write a short sentence for each such line explaining its purpose. Feel free to refer to the lecture notes or any resources to answers these question. In addition, explain what the Y, Z, W variables refer to and their purpose</font>"
   ]
  },
  {
   "cell_type": "code",
   "execution_count": 8,
   "id": "7985eb85-6a89-4d01-b6cf-d58cb8b4d23f",
   "metadata": {},
   "outputs": [],
   "source": [
    "class NNet:\n",
    "    def __init__(self, input_size = 784, output_size = 1, batch_size = 1000, hidden_layers = [500, 250, 50]):\n",
    "        self.Y = []\n",
    "        self.Z = []\n",
    "        self.W = []\n",
    "        self.input_size = input_size\n",
    "        self.output_size = output_size\n",
    "        self.batch_size = batch_size\n",
    "        self.hidden_layers = hidden_layers\n",
    "\n",
    "        layers = [input_size] + hidden_layers + [output_size]\n",
    "        L = len(hidden_layers) + 1\n",
    "    \n",
    "        for i in range(1, L + 1):\n",
    "            self.Y.append(np.zeros((layers[i], batch_size)))                        #line1\n",
    "            self.Z.append(np.zeros((layers[i], batch_size)))                        #Line2\n",
    "            self.W.append(2*(np.random.rand(layers[i], layers[i-1] + 1) - 0.5))     #Line3\n"
   ]
  },
  {
   "cell_type": "markdown",
   "id": "7854a0e4-9b83-4f52-8b59-3e64af141209",
   "metadata": {},
   "source": [
    "**Answers** (to write answers edit this cell)\n",
    "\n",
    "(i) What do the Y, Z, W variables refer to and their purpose?\n",
    "\n",
    "Y (Activations): Stores the output of each layer after applying the activation function. It represents the model's predictions for each neuron at every layer, which are passed to the next layer in forward propagation.\n",
    "\n",
    "Z (Pre-activations): Stores the weighted sums of inputs plus bias before applying the activation function. These values are used for calculating gradients during backpropagation and for computing the derivatives of the activation function.\n",
    "\n",
    "W (Weights): Stores the weight matrices for each layer in the network. The weights determine the strength of the connections between neurons and are updated during training to minimize the model's error.\n",
    "\n",
    "(ii) Line1: Explanation\n",
    "\n",
    "\n",
    "This line initializes a matrix of zeros to store the activations (output after applying activation functions) for the current layer i. The matrix dimensions are layers[i] (number of neurons in the layer) by batch_size (the number of samples being processed at once). Each layer's activations are stored in self.Y for use in forward propagation and backpropagation.\n",
    "\n",
    "(iii) Line2: Explanation\n",
    "\n",
    "\n",
    "This line initializes a matrix of zeros to store the pre-activations (values before applying the activation function) for the current layer i. The matrix has the same dimensions as the activation matrix, layers[i] by batch_size. The pre-activations are used to compute the gradient during backpropagation and are stored in self.Z.\n",
    "\n",
    "(iv) Line3: Explanation\n",
    "\n",
    "\n",
    "This line initializes the weight matrix for the current layer i with random values between -1 and 1. The weight matrix has dimensions layers[i] (number of neurons in the current layer) by layers[i-1] + 1 (number of neurons in the previous layer plus an additional bias term). The weights are crucial for learning and will be updated during training to minimize the error of the network's predictions."
   ]
  },
  {
   "cell_type": "markdown",
   "id": "7ee71406-c0f7-4114-9d9c-bf25fe6d208a",
   "metadata": {
    "deletable": false,
    "editable": false
   },
   "source": [
    "**Q7.** Now we will implement the feedforward algorithm. Recall from the lectures that for each layer $l$ there is input $Y^{(l-1)}$ from the previous layer if $l > 1$ and input data $X$ if $l = 1$. Then we compute $Z^{(l)}$ using the weight matrix $W^{(l)}$ as follows from matrix multiplication:\n",
    "\n",
    "$Z^{(l)} = W^{(l)} Y^{(l-1)}$\n",
    "\n",
    "Make sure that during multiplication you add an additional row of one's to $Y^{(l-1)}$ to accommodate the bias term. However, the rows of ones should not permanently remain on $Y^{(l-1)}$. <font color='blue'>Explain what the bias term is and how adding a row of one's help with the bias terms.</font> During definition above the weight matrices are initialised to afford this extra bias term, so no change to either $Z^{(l)}$ or $W^{(l)}$ is needed.\n",
    "\n",
    "Next compute $Y^{(l)}$, the output of layer $l$ by activation through sigmoid.\n",
    "\n",
    "$Y^{(l)} = \\sigma(Z^{(l)})$\n",
    "\n",
    "The implemented feedforward algorithm should take in a NNet model and an input matrix $X$ and output the modified MLP model - the $Y$'s and $Z$'s computed should be stored in the model for the backpropagation algorithm.\n",
    "\n",
    "As usual avoid for loops as much as possible, use the power of numpy. However, you may use a for loop to iterate through the layers of the model."
   ]
  },
  {
   "cell_type": "code",
   "execution_count": 9,
   "id": "c41a778a-0d06-4295-ac80-3ea6bfbad9f0",
   "metadata": {},
   "outputs": [],
   "source": [
    "def feedforward(model, X):\n",
    "\n",
    "    #TODO\n",
    "    X_1 = np.append(X, np.ones((1,X.shape[1])),axis=0)\n",
    "\n",
    "    L = len(model.hidden_layers) + 1\n",
    "\n",
    "    Y = X_1\n",
    "    for i in range(0,L):\n",
    "        Z = model.W[i].dot(Y)\n",
    "\n",
    "        if i < L-1:\n",
    "            Y = ReLu(Z)\n",
    "        else:\n",
    "            Y = sigmoid(Z)\n",
    "\n",
    "        model.Z[i] = Z\n",
    "        model.Y[i] = Y\n",
    "\n",
    "        # print(f\"Layer {i}: Y shape = {Z}\")\n",
    "      \n",
    "        if i < L - 1:\n",
    "            Y = np.append(Y, np.ones((1,Y.shape[1])),axis=0)\n",
    "\n",
    "        \n",
    "    return(model)"
   ]
  },
  {
   "cell_type": "markdown",
   "id": "cbeea889-4e78-4bfc-b126-6d5d11ea571e",
   "metadata": {
    "deletable": false,
    "editable": false
   },
   "source": [
    "**Answer** (to write answers edit this cell)\n",
    "\n",
    "Explain what the bias term is and how adding a row of one's help with the bias terms.\n",
    "\n",
    "<font color='green'>The Bias term is a parameter that allows models to represent patterns that do not pass through the origin. When used within an activation function, the purpose of the bias term is to shift the position of the curve left or right to delay or accelerate the activation of a node. In the weight matrix there is a coloumn with bias terms. when input data matrix multiply with the weight matrix, in order to do the matrix multiplication row of one's needed in the input data matrix to multiply with the bias term coloumn.</font>"
   ]
  },
  {
   "cell_type": "markdown",
   "id": "f5b4c037-df9a-49eb-9519-51b86555b33c",
   "metadata": {
    "deletable": false,
    "editable": false
   },
   "source": [
    "**Q8.** Now we will implement the backpropagation algorithm. The cost function $C$ at the end is given by the square loss.\n",
    "\n",
    "$C = \\frac{1}{2} ||Y^{(L)} - Y||^{2}$, where $Y^{(L)}$ is the final output vector of the feedforward algorithm and $Y$ is the actual label vector associated with the input $X$.\n",
    "\n",
    "At each layer $l = 1, 2, \\cdots, L$ we compute the following (note that the gradients are matrices with the same dimensions as the variable to which we derivating with respect to):\n",
    "\n",
    "1. Gradient of $C$ with respect to $Z^{(l)}$ as <br> $\\frac{\\partial C}{\\partial Z^{(l)}} = deriv(A^{(l)}(Z^{(l)})) \\odot \\frac{\\partial C}{\\partial Y^{(L)}} $, <br> where $A^{(l)}$ is the activation function of the $l$th layer, and we use the derivative of that here. The $\\odot$ refers to the elementwise multiplication.\n",
    "\n",
    "2. Gradient of $C$ with respect to $W^{(l)}$ as <br> $\\frac{\\partial C}{\\partial W^{(l)}} = \\frac{\\partial C}{\\partial Z^{(l)}} (Y^{(l-1)})^{T}$ <br> this is entirely matrix multiplication.\n",
    "\n",
    "3. Gradient of $C$ with respect to $Y^{(l-1)}$ as <br> $\\frac{\\partial C}{\\partial Y^{(l-1)}} = (W^{(l)})^{T} \\frac{\\partial C}{\\partial Z^{(l)}}$ <br> this is also entirely matrix multiplication.\n",
    "\n",
    "4. Update weights by: <br> $W^{(l)} \\leftarrow W^{(l)} - \\eta \\frac{\\partial C}{\\partial W^{(l)}}$, <br> where $\\eta > 0$ is the learning rate.\n",
    "\n",
    "The loss derivative (the gradient of $C$ with respect to $Y^{(L)}$) at the last layer is given by:\n",
    "\n",
    "$\\frac{\\partial C}{\\partial Y^{(L)}} = Y^{(L)} - Y$\n",
    "\n",
    "By convention we consider $Y^{(0)} = X$, the input data.\n",
    "\n",
    "Based on the backpropagation algorithm implement the backpropagation method in the following cell. Remember to temporarily add a row of ones to $Y^{(l-1)}$ when computing $\\frac{\\partial C}{\\partial W^{(l)}}$ as we discussed back in the feedforward algorithm. Make sure you avoid for loops as much as possible.\n",
    "\n",
    "The function takes in a NNet model, input data $X$ and the corresponding class labels $Y$. learning rate can be set as desired."
   ]
  },
  {
   "cell_type": "code",
   "execution_count": 10,
   "id": "d958af3f-5a72-462d-844f-aba8ce5b03c8",
   "metadata": {},
   "outputs": [],
   "source": [
    "def backpropagation(model, X, Y, eta = 0.01):\n",
    "\n",
    "    #TODO\n",
    "\n",
    "    L = len(model.hidden_layers) + 1\n",
    "\n",
    "    # dc_dy = (model.Y[L-1] - Y) / len(Y)\n",
    "    dc_dy = (model.Y[L-1] - Y) \n",
    "    # print('initial ', len(dc_dy) )\n",
    "\n",
    "    for i in range(L-1 ,-1,-1):\n",
    "        if i==L-1:\n",
    "            dc_dz = deriv_sigmoid(model.Y[i]) * dc_dy\n",
    "        else:\n",
    "            dc_dz = deriv_ReLu(model.Y[i])  * dc_dy\n",
    "\n",
    "        # print('dc_dz rows ',len(dc_dz))\n",
    "        # print('dc_dz coloumns ',len(dc_dz[0]))\n",
    "\n",
    "        if i > 0:\n",
    "            Y_L_prev = np.append(model.Y[i-1],np.ones((1,model.Y[i-1].shape[1])),axis=0)    \n",
    "            dc_dw  = dc_dz.dot(Y_L_prev.T)\n",
    "        else:\n",
    "            X_1 = np.append(X,np.ones((1,X.shape[1])),axis=0)\n",
    "            dc_dw  = dc_dz.dot(X_1.T)\n",
    "\n",
    "        # print('dc_dw rows ', len(dc_dw))\n",
    "        # print('dc dw coloumns ',len(dc_dw[0]))\n",
    "\n",
    "        dc_dy = model.W[i].T.dot(dc_dz) \n",
    "        dc_dy = dc_dy[:-1]\n",
    "        # print(\"dc_dy \",dc_dy)\n",
    "        \n",
    "        # print('dc dy rows ',len(dc_dy))\n",
    "        # print('dc dy coloumns ',len(dc_dy[0]))\n",
    "\n",
    "        model.W[i] -= eta* dc_dw\n",
    "\n",
    "    \n",
    "\n",
    "    return(model)"
   ]
  },
  {
   "cell_type": "markdown",
   "id": "a2fad553-1ba4-4bee-b04b-249b9e04c6a9",
   "metadata": {
    "deletable": false,
    "editable": false
   },
   "source": [
    "**Q9.** Now implement the training algorithm.\n",
    "\n",
    "The training method takes in training data $X$, actual label $Y$, number of epochs, batch_size, learning rate $\\eta > 0$. The training will happen in epochs. For each epoch, permute the data columns of both $X$ and $Y$, then divide both $X$ and $Y$ into mini batches each with the given batch size. Then run the feedforward and backpropagation for each such batch iteratively.\n",
    "\n",
    "At the end of each iteration, keep trach of the cost $C$ and the $l_2$-norm of change in each weight matrix $W^{(l)}$.\n",
    "\n",
    "At the end of the last epoch, plot the variation cost $C$ and change in weight matrices. Then return the trained model.\n",
    "\n"
   ]
  },
  {
   "cell_type": "code",
   "execution_count": 11,
   "id": "fa4070ea-4a6b-4cba-b882-fa2ea79a9247",
   "metadata": {},
   "outputs": [],
   "source": [
    "import numpy as np\n",
    "import matplotlib.pyplot as plt\n",
    "from tqdm import tqdm\n",
    "\n",
    "def train_NNet(X, Y, epochs=20, batch_size=1000, eta=0.01, hidden_layers=[500, 250, 50]):\n",
    "\n",
    "    # Initialize model\n",
    "    model = NNet(input_size=X.shape[0], output_size=1, batch_size=batch_size, hidden_layers=hidden_layers)\n",
    "\n",
    "    costs = []\n",
    "    weights_change = []\n",
    "    avg_costs_per_epoch = []\n",
    "    avg_weights_change_per_epoch = []\n",
    "\n",
    "    for epoch in tqdm(range(epochs)):\n",
    "        # Permute data\n",
    "        perm = np.random.permutation(X.shape[1])\n",
    "        permuted_X = X[:, perm]\n",
    "        permuted_Y = Y[perm]\n",
    "\n",
    "        # Split data into mini-batches\n",
    "        data_loader_X = np.array_split(permuted_X, permuted_X.shape[1] // batch_size, axis=1)\n",
    "        data_loader_Y = np.array_split(permuted_Y, permuted_Y.shape[0] // batch_size, axis=0)\n",
    "\n",
    "        weight_changes_epoch = []\n",
    "        costs_epoch = []\n",
    "\n",
    "        for batch_X, batch_Y in zip(data_loader_X, data_loader_Y):\n",
    "            # Feedforward\n",
    "            model = feedforward(model, batch_X)\n",
    "            y_pred = model.Y[-1]\n",
    "\n",
    "            # Backpropagation\n",
    "            w_prev = [w.copy() for w in model.W]\n",
    "            model = backpropagation(model, batch_X, batch_Y, eta)\n",
    "            w_now = model.W\n",
    "\n",
    "            # Compute cost for the current batch\n",
    "            cost = np.mean(np.square(y_pred - batch_Y)) / 2\n",
    "            costs.append(cost)\n",
    "            costs_epoch.append(cost)\n",
    "\n",
    "            # Compute weight change for the current batch\n",
    "            weight_change = sum(np.linalg.norm(w_now[i] - w_prev[i]) for i in range(len(w_now)))\n",
    "            weight_changes_epoch.append(weight_change)\n",
    "\n",
    "        # Average weight change and cost across batches for this epoch\n",
    "        avg_weight_change = np.mean(weight_changes_epoch)\n",
    "        avg_cost = np.mean(costs_epoch)\n",
    "        weights_change.append(avg_weight_change)\n",
    "        avg_costs_per_epoch.append(avg_cost)\n",
    "        avg_weights_change_per_epoch.append(avg_weight_change)\n",
    "\n",
    "        # Display details every 10 epochs\n",
    "        if (epoch + 1) % 10 == 0:\n",
    "            print(f'Epoch {epoch + 1}/{epochs}')\n",
    "            print(f'Cost: {avg_cost}')\n",
    "            print(f'Average Weight Change: {avg_weight_change}')\n",
    "\n",
    "    # Plotting\n",
    "    fig, ax = plt.subplots(3, 1, figsize=(10, 15))\n",
    "\n",
    "    # Plot for cost per step\n",
    "    ax[0].plot(range(1, len(costs) + 1), costs)\n",
    "    ax[0].set_title(\"Cost C vs Steps\")\n",
    "    ax[0].set_xlabel('Steps')\n",
    "    ax[0].set_ylabel('Cost C')\n",
    "\n",
    "    # Plot for weight change per step\n",
    "    ax[1].plot(range(1, len(weights_change) + 1), weights_change)\n",
    "    ax[1].set_title('Weight Change vs Steps')\n",
    "    ax[1].set_xlabel('Steps')\n",
    "    ax[1].set_ylabel('Weight Change L2 Norm')\n",
    "\n",
    "    # Plot for average cost and weight change per epoch\n",
    "    epochs_range = range(1, epochs + 1)\n",
    "    ax[2].plot(epochs_range, avg_costs_per_epoch, label='Average Cost per Epoch')\n",
    "    ax[2].plot(epochs_range, avg_weights_change_per_epoch, label='Average Weight Change per Epoch')\n",
    "    ax[2].set_title('Average Cost and Weight Change per Epoch')\n",
    "    ax[2].set_xlabel('Epochs')\n",
    "    ax[2].set_ylabel('Average Value')\n",
    "    ax[2].legend()\n",
    "\n",
    "    plt.tight_layout()\n",
    "    plt.show()\n",
    "\n",
    "    return model\n"
   ]
  },
  {
   "cell_type": "code",
   "execution_count": 12,
   "id": "c0e25cb7",
   "metadata": {},
   "outputs": [
    {
     "name": "stderr",
     "output_type": "stream",
     "text": [
      "  0%|          | 0/100 [00:00<?, ?it/s]"
     ]
    },
    {
     "name": "stderr",
     "output_type": "stream",
     "text": [
      " 10%|█         | 10/100 [00:34<05:03,  3.37s/it]"
     ]
    },
    {
     "name": "stdout",
     "output_type": "stream",
     "text": [
      "Epoch 10/100\n",
      "Cost: 0.006843744328795834\n",
      "Average Weight Change: 0.014034180034867977\n"
     ]
    },
    {
     "name": "stderr",
     "output_type": "stream",
     "text": [
      " 20%|██        | 20/100 [01:07<04:23,  3.29s/it]"
     ]
    },
    {
     "name": "stdout",
     "output_type": "stream",
     "text": [
      "Epoch 20/100\n",
      "Cost: 0.004126982900365802\n",
      "Average Weight Change: 0.005348556907726647\n"
     ]
    },
    {
     "name": "stderr",
     "output_type": "stream",
     "text": [
      " 30%|███       | 30/100 [01:35<03:14,  2.78s/it]"
     ]
    },
    {
     "name": "stdout",
     "output_type": "stream",
     "text": [
      "Epoch 30/100\n",
      "Cost: 0.0030999763224001564\n",
      "Average Weight Change: 0.0020458614221200377\n"
     ]
    },
    {
     "name": "stderr",
     "output_type": "stream",
     "text": [
      " 40%|████      | 40/100 [02:03<02:44,  2.75s/it]"
     ]
    },
    {
     "name": "stdout",
     "output_type": "stream",
     "text": [
      "Epoch 40/100\n",
      "Cost: 0.0036217131388523952\n",
      "Average Weight Change: 0.003950858657907273\n"
     ]
    },
    {
     "name": "stderr",
     "output_type": "stream",
     "text": [
      " 50%|█████     | 50/100 [02:30<02:14,  2.69s/it]"
     ]
    },
    {
     "name": "stdout",
     "output_type": "stream",
     "text": [
      "Epoch 50/100\n",
      "Cost: 0.0024671035596846636\n",
      "Average Weight Change: 1.329638728918e-06\n"
     ]
    },
    {
     "name": "stderr",
     "output_type": "stream",
     "text": [
      " 60%|██████    | 60/100 [02:57<01:44,  2.62s/it]"
     ]
    },
    {
     "name": "stdout",
     "output_type": "stream",
     "text": [
      "Epoch 60/100\n",
      "Cost: 0.002497026177087363\n",
      "Average Weight Change: 0.0015382384410661542\n"
     ]
    },
    {
     "name": "stderr",
     "output_type": "stream",
     "text": [
      " 70%|███████   | 70/100 [03:24<01:19,  2.65s/it]"
     ]
    },
    {
     "name": "stdout",
     "output_type": "stream",
     "text": [
      "Epoch 70/100\n",
      "Cost: 0.0033983740154963993\n",
      "Average Weight Change: 0.004830326143114508\n"
     ]
    },
    {
     "name": "stderr",
     "output_type": "stream",
     "text": [
      " 80%|████████  | 80/100 [03:50<00:53,  2.69s/it]"
     ]
    },
    {
     "name": "stdout",
     "output_type": "stream",
     "text": [
      "Epoch 80/100\n",
      "Cost: 0.0022542491513377217\n",
      "Average Weight Change: 0.0013500919898695167\n"
     ]
    },
    {
     "name": "stderr",
     "output_type": "stream",
     "text": [
      " 90%|█████████ | 90/100 [04:19<00:29,  2.98s/it]"
     ]
    },
    {
     "name": "stdout",
     "output_type": "stream",
     "text": [
      "Epoch 90/100\n",
      "Cost: 0.0022203842671842788\n",
      "Average Weight Change: 1.4741564542946942e-06\n"
     ]
    },
    {
     "name": "stderr",
     "output_type": "stream",
     "text": [
      "100%|██████████| 100/100 [04:49<00:00,  2.90s/it]"
     ]
    },
    {
     "name": "stdout",
     "output_type": "stream",
     "text": [
      "Epoch 100/100\n",
      "Cost: 0.002410397150560512\n",
      "Average Weight Change: 0.002733397953232365\n"
     ]
    },
    {
     "name": "stderr",
     "output_type": "stream",
     "text": [
      "\n"
     ]
    },
    {
     "data": {
      "image/png": "[encoded data removed]",
      "text/plain": [
       "<Figure size 1000x1500 with 3 Axes>"
      ]
     },
     "metadata": {},
     "output_type": "display_data"
    }
   ],
   "source": [
    "model = train_NNet(train_X_1_5,train_class_1_5,eta = 0.002,hidden_layers=[256,128,32],epochs = 100,batch_size = 32)"
   ]
  },
  {
   "cell_type": "markdown",
   "id": "2cd20299-a129-4d1d-a406-84e1a4dba621",
   "metadata": {
    "deletable": false,
    "editable": false
   },
   "source": [
    "## Section 3: Evaluation using test data"
   ]
  },
  {
   "cell_type": "markdown",
   "id": "d954c37c-f1b7-4e87-aedd-cf9e7624f612",
   "metadata": {
    "deletable": false,
    "editable": false
   },
   "source": [
    "The following function will evaluate then return an accuracy score and the predicted labels for your model. Do not change anything here."
   ]
  },
  {
   "cell_type": "code",
   "execution_count": 13,
   "id": "977dcbb8-1b5c-4f49-89f6-9bd90833957b",
   "metadata": {},
   "outputs": [],
   "source": [
    "def test_model(test_data, test_labels, model, d1, d2):\n",
    "    \n",
    "    L = len(model.hidden_layers) + 1\n",
    "    \n",
    "    Y = test_data\n",
    "    for i in range(L):\n",
    "        Z = np.matmul(model.W[i], np.append(Y, np.array([np.ones(Y.shape[1])]), axis = 0))\n",
    "        if i < L - 1:\n",
    "            Y = ReLu(Z)\n",
    "        else:\n",
    "            Y = sigmoid(Z)\n",
    "    \n",
    "    Y = Y[0]\n",
    "    Y = np.where(Y >= 0.5, 1, 0)\n",
    "    Y_predicted = np.where(Y == 0, d1, d2)\n",
    "\n",
    "    acc = accuracy_score(test_labels, Y_predicted)\n",
    "\n",
    "    return(acc, Y_predicted)\n",
    "\n",
    "    "
   ]
  },
  {
   "cell_type": "markdown",
   "id": "ab6f1db0-8f5f-442c-84f1-578c77b99537",
   "metadata": {
    "deletable": false,
    "editable": false
   },
   "source": [
    "**Q10.** Use this test_model function to evaluate your model with the $1$ and $5$ digits. An accuracy $>= 99%$ is achievable. Test with different batch sizes, $\\eta$ values and hidden layers. Find which of those hyperparameters gives the best test accuracy. <font color='blue'>Document the hyperparameter values that gives the best testing accuracy and that best accuracy. Plot a confusion matrix and comment on your observations with reasons. Also, look into the nature of the plots that result fom the training procedure, see how they vary with the hyperparameters and provide your ideas on the observations. Then do the same with a few other pairs of digits $d_1, d_2$. Especially, try $d_1 = 1, d_2 = 7$. Comment on your observations and explain possible reasons</font>."
   ]
  },
  {
   "cell_type": "code",
   "execution_count": 16,
   "id": "aefa6ea2",
   "metadata": {},
   "outputs": [
    {
     "name": "stdout",
     "output_type": "stream",
     "text": [
      "The Default Model Accuracy - 98.54%\n"
     ]
    }
   ],
   "source": [
    "deafult_accuracy, y_pred = test_model(test_X_1_5,test_class_1_5,model,1,5)\n",
    "print(\"The Default Model Accuracy - {:.2f}%\".format(deafult_accuracy*100))"
   ]
  }
 ],
 "metadata": {
  "kernelspec": {
   "display_name": "Python 3 (ipykernel)",
   "language": "python",
   "name": "python3"
  },
  "language_info": {
   "codemirror_mode": {
    "name": "ipython",
    "version": 3
   },
   "file_extension": ".py",
   "mimetype": "text/x-python",
   "name": "python",
   "nbconvert_exporter": "python",
   "pygments_lexer": "ipython3",
   "version": "3.11.3"
  }
 },
 "nbformat": 4,
 "nbformat_minor": 5
}
